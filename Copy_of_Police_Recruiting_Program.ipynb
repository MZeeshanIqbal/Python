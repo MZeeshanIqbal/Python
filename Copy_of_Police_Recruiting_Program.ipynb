{
  "nbformat": 4,
  "nbformat_minor": 0,
  "metadata": {
    "colab": {
      "name": "Copy of Police Recruiting Program.ipynb",
      "provenance": [],
      "collapsed_sections": [],
      "authorship_tag": "ABX9TyOZbhg7sdKPSXYYYLPB6Bhk",
      "include_colab_link": true
    },
    "kernelspec": {
      "name": "python3",
      "display_name": "Python 3"
    }
  },
  "cells": [
    {
      "cell_type": "markdown",
      "metadata": {
        "id": "view-in-github",
        "colab_type": "text"
      },
      "source": [
        "<a href=\"https://colab.research.google.com/github/MZeeshanIqbal/Python/blob/master/Copy_of_Police_Recruiting_Program.ipynb\" target=\"_parent\"><img src=\"https://colab.research.google.com/assets/colab-badge.svg\" alt=\"Open In Colab\"/></a>"
      ]
    },
    {
      "cell_type": "code",
      "metadata": {
        "id": "vBR8-YQ-CDcI",
        "colab_type": "code",
        "colab": {}
      },
      "source": [
        "# This is the Police recruting program designed for the khyber pukhtoonKhwa Police\n",
        "# this program made the applicant appointment check by asking questions"
      ],
      "execution_count": 0,
      "outputs": []
    },
    {
      "cell_type": "code",
      "metadata": {
        "id": "6wO9E5VvPugz",
        "colab_type": "code",
        "colab": {
          "base_uri": "https://localhost:8080/",
          "height": 153
        },
        "outputId": "0b87e584-9e1f-4045-f398-e94d015c76f4"
      },
      "source": [
        "import time\n",
        "officer_name=[\"Zeeshan\",\"Nasir Hussain\",\"Adil Altaf\",\"Zia Khan\"]\n",
        "#check_list\n",
        "#applicant Details\n",
        "name=[]\n",
        "age=[] \n",
        "height=[]\n",
        "chest_size=[] \n",
        "Intellegence_score=[]\n",
        "appitude_test=[]\n",
        "interview_score=[]\n",
        "password={\n",
        "    officer_name[0]: \"PIAIC000\",\n",
        "    officer_name[1]: \"PIAIC001\",\n",
        "    officer_name[2]: \"PIAIC002\",\n",
        "    officer_name[3]: \"PIAIC003\"\n",
        "    }\n",
        "print(\"Welcome to KPK police Recruitment Program:-\\n Please sign in with your User Name and Password:-\")\n",
        "time.sleep(2)\n",
        "user_name=input(\"Please enter your User name:-\\n\")\n",
        "pas=input(\"Please enter your password:\\n\")\n",
        "temp=user_name\n",
        "if user_name in officer_name and pas in password[officer_name[officer_name.index(temp)]]:\n",
        "\n",
        "    print(f\"Welcome Mr {temp} to KPK Police Recruitment Program\")\n",
        "    print('Please wait while we getting things ready for you!')\n",
        "    time.sleep(2.5)\n",
        "\n",
        "else:\n",
        "  print(\"incorrect user name or password\")\n"
      ],
      "execution_count": 12,
      "outputs": [
        {
          "output_type": "stream",
          "text": [
            "Welcome to KPK police Recruitment Program:-\n",
            " Please sign in with your User Name and Password:-\n",
            "Please enter your User name:-\n",
            "Zeeshan\n",
            "Please enter your password:\n",
            "PI\n",
            "Welcome Mr Zeeshan to KPK Police Recruitment Program\n",
            "Please wait while we getting things ready for you!\n"
          ],
          "name": "stdout"
        }
      ]
    },
    {
      "cell_type": "code",
      "metadata": {
        "id": "0wA_k5Bi0V0P",
        "colab_type": "code",
        "outputId": "1809f5ab-e24d-4e0b-fa17-4236a4f65f23",
        "colab": {
          "base_uri": "https://localhost:8080/",
          "height": 136
        }
      },
      "source": [
        "    print(\"Enter the name of the applicat:-\")\n",
        "    name1=input('enter the name:-')\n",
        "    name.append(name1)\n",
        "    print(\"Enter the the age of applicant\")\n",
        "    age1=int(input())\n",
        "    age.append(age1)\n",
        "    height1=int(input(\"Enter the height:-\"))\n",
        "    height.append(height1)\n",
        "    chest_size1=int(input(\"enter your chest size:-\"))\n",
        "    chest_size.append(chest_size1)\n",
        "    chez_size"
      ],
      "execution_count": 14,
      "outputs": [
        {
          "output_type": "stream",
          "text": [
            "Enter the name of the applicat:-\n",
            "enter the name:-jk\n",
            "Enter the the age of applicant\n",
            "3\n",
            "Enter the height:-5\n",
            "enter your chest size:-56\n"
          ],
          "name": "stdout"
        },
        {
          "output_type": "execute_result",
          "data": {
            "text/plain": [
              "[]"
            ]
          },
          "metadata": {
            "tags": []
          },
          "execution_count": 14
        }
      ]
    },
    {
      "cell_type": "code",
      "metadata": {
        "id": "mUaCMxiH1ZL2",
        "colab_type": "code",
        "colab": {
          "base_uri": "https://localhost:8080/",
          "height": 51
        },
        "outputId": "8630e0ad-c4a2-4b36-b485-a0a7a3e3adbf"
      },
      "source": [
        "   chest_size1=int(input(\"enter your chest size:-\"))\n",
        "   chest_size.append(chest_size1)\n",
        "   chest_size"
      ],
      "execution_count": 17,
      "outputs": [
        {
          "output_type": "stream",
          "text": [
            "enter your chest size:-7\n"
          ],
          "name": "stdout"
        },
        {
          "output_type": "execute_result",
          "data": {
            "text/plain": [
              "[45, 56, 7, 7]"
            ]
          },
          "metadata": {
            "tags": []
          },
          "execution_count": 17
        }
      ]
    },
    {
      "cell_type": "code",
      "metadata": {
        "id": "c-ywxM3WvtFF",
        "colab_type": "code",
        "colab": {
          "base_uri": "https://localhost:8080/",
          "height": 34
        },
        "outputId": "a8331bcf-edad-4355-b448-c0961908ca41"
      },
      "source": [
        "chest_size"
      ],
      "execution_count": 19,
      "outputs": [
        {
          "output_type": "execute_result",
          "data": {
            "text/plain": [
              "[45, 56, 7, 7]"
            ]
          },
          "metadata": {
            "tags": []
          },
          "execution_count": 19
        }
      ]
    }
  ]
}
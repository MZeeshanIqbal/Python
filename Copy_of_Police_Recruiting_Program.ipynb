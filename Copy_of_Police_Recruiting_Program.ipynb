{
  "nbformat": 4,
  "nbformat_minor": 0,
  "metadata": {
    "colab": {
      "name": "Copy of Police Recruiting Program.ipynb",
      "provenance": [],
      "collapsed_sections": [],
      "authorship_tag": "ABX9TyOULeh2qfdupCU+V+B1n78G",
      "include_colab_link": true
    },
    "kernelspec": {
      "name": "python3",
      "display_name": "Python 3"
    }
  },
  "cells": [
    {
      "cell_type": "markdown",
      "metadata": {
        "id": "view-in-github",
        "colab_type": "text"
      },
      "source": [
        "<a href=\"https://colab.research.google.com/github/MZeeshanIqbal/Python/blob/master/Copy_of_Police_Recruiting_Program.ipynb\" target=\"_parent\"><img src=\"https://colab.research.google.com/assets/colab-badge.svg\" alt=\"Open In Colab\"/></a>"
      ]
    },
    {
      "cell_type": "code",
      "metadata": {
        "id": "vBR8-YQ-CDcI",
        "colab_type": "code",
        "colab": {}
      },
      "source": [
        "# This is the Police recruting program designed for the khyber pukhtoonKhwa Police\n",
        "# this program made the applicant appointment check by asking questions"
      ],
      "execution_count": 0,
      "outputs": []
    },
    {
      "cell_type": "code",
      "metadata": {
        "id": "6wO9E5VvPugz",
        "colab_type": "code",
        "colab": {
          "base_uri": "https://localhost:8080/",
          "height": 153
        },
        "outputId": "5c160e3c-3a6e-494e-b75a-1f9ae9a0cd7d"
      },
      "source": [
        "import time\n",
        "officer_name=[\"Zeeshan\",\"Nasir Hussain\",\"Adil Altaf\",\"Zia Khan\"]\n",
        "#check_list\n",
        "#applicant Details\n",
        "name=[]\n",
        "age=[] \n",
        "height=[]\n",
        "chest_size=[] \n",
        "Intellegence_score=[]\n",
        "appitude_test=[]\n",
        "interview_score=[]\n",
        "password={\n",
        "    officer_name[0]: \"PIAIC000\",\n",
        "    officer_name[1]: \"PIAIC001\",\n",
        "    officer_name[2]: \"PIAIC002\",\n",
        "    officer_name[3]: \"PIAIC003\"\n",
        "    }\n",
        "print(\"Welcome to KPK police Recruitment Program:-\\n Please sign in with your User Name and Password:-\")\n",
        "time.sleep(2)\n",
        "user_name=input(\"Please enter your User name:-\\n\")\n",
        "pas=input(\"Please enter your password:\\n\")\n",
        "temp=user_name\n",
        "if user_name in officer_name and pas in password[officer_name[officer_name.index(temp)]]:\n",
        "\n",
        "    print(f\"Welcome Mr {temp} to KPK Police Recruitment Program\")\n",
        "    print('Please wait while we getting things ready for you!')\n",
        "    time.sleep(2.5)\n",
        "\n",
        "else:\n",
        "  print(\"incorrect user name or password\")\n"
      ],
      "execution_count": 2,
      "outputs": [
        {
          "output_type": "stream",
          "text": [
            "Welcome to KPK police Recruitment Program:-\n",
            " Please sign in with your User Name and Password:-\n",
            "Please enter your User name:-\n",
            "Zeeshan\n",
            "Please enter your password:\n",
            "PI\n",
            "Welcome Mr Zeeshan to KPK Police Recruitment Program\n",
            "Please wait while we getting things ready for you!\n"
          ],
          "name": "stdout"
        }
      ]
    },
    {
      "cell_type": "code",
      "metadata": {
        "id": "0wA_k5Bi0V0P",
        "colab_type": "code",
        "outputId": "503489c8-bf27-41a6-9f8e-535db2e65781",
        "colab": {
          "base_uri": "https://localhost:8080/",
          "height": 119
        }
      },
      "source": [
        "    print(\"Enter the name of the applicat:-\")\n",
        "    name1=input('enter the name:-')\n",
        "    name.append(name1)\n",
        "    print(\"Enter the the age of applicant\")\n",
        "    age1=int(input())\n",
        "    age.append(age1)\n",
        "    height1=int(input(\"Enter the height:-\"))\n",
        "    height.append(height1)\n",
        "    height"
      ],
      "execution_count": 10,
      "outputs": [
        {
          "output_type": "stream",
          "text": [
            "Enter the name of the applicat:-\n",
            "enter the name:-Zeeshan\n",
            "Enter the the age of applicant\n",
            "22\n",
            "Enter the height:-6\n"
          ],
          "name": "stdout"
        },
        {
          "output_type": "execute_result",
          "data": {
            "text/plain": [
              "[6]"
            ]
          },
          "metadata": {
            "tags": []
          },
          "execution_count": 10
        }
      ]
    },
    {
      "cell_type": "code",
      "metadata": {
        "id": "mUaCMxiH1ZL2",
        "colab_type": "code",
        "colab": {
          "base_uri": "https://localhost:8080/",
          "height": 34
        },
        "outputId": "60f161c5-7e6d-4be9-87e0-c173c74e5810"
      },
      "source": [
        "age"
      ],
      "execution_count": 8,
      "outputs": [
        {
          "output_type": "execute_result",
          "data": {
            "text/plain": [
              "[21]"
            ]
          },
          "metadata": {
            "tags": []
          },
          "execution_count": 8
        }
      ]
    },
    {
      "cell_type": "code",
      "metadata": {
        "id": "c-ywxM3WvtFF",
        "colab_type": "code",
        "colab": {}
      },
      "source": [
        ""
      ],
      "execution_count": 0,
      "outputs": []
    }
  ]
}
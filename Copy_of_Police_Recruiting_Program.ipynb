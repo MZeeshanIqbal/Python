{
  "nbformat": 4,
  "nbformat_minor": 0,
  "metadata": {
    "colab": {
      "name": "Copy of Police Recruiting Program.ipynb",
      "provenance": [],
      "collapsed_sections": [],
      "authorship_tag": "ABX9TyN5kF8lBzySueyNrv0Hg22N",
      "include_colab_link": true
    },
    "kernelspec": {
      "name": "python3",
      "display_name": "Python 3"
    }
  },
  "cells": [
    {
      "cell_type": "markdown",
      "metadata": {
        "id": "view-in-github",
        "colab_type": "text"
      },
      "source": [
        "<a href=\"https://colab.research.google.com/github/MZeeshanIqbal/Python/blob/master/Copy_of_Police_Recruiting_Program.ipynb\" target=\"_parent\"><img src=\"https://colab.research.google.com/assets/colab-badge.svg\" alt=\"Open In Colab\"/></a>"
      ]
    },
    {
      "cell_type": "code",
      "metadata": {
        "id": "vBR8-YQ-CDcI",
        "colab_type": "code",
        "colab": {}
      },
      "source": [
        "# This is the Police recruting program designed for the khyber pukhtoonKhwa Police\n",
        "# this program made the applicant appointment check by asking questions"
      ],
      "execution_count": 0,
      "outputs": []
    },
    {
      "cell_type": "code",
      "metadata": {
        "id": "6wO9E5VvPugz",
        "colab_type": "code",
        "outputId": "4024366d-cf27-49c8-b2c9-69f64ef58dc0",
        "colab": {
          "base_uri": "https://localhost:8080/",
          "height": 153
        }
      },
      "source": [
        "import time\n",
        "officer_name=[\"Zeeshan\",\"Nasir Hussain\",\"Adil Altaf\",\"Zia Khan\"]\n",
        "#check_list\n",
        "#applicant Details\n",
        "name=[]\n",
        "age=[] \n",
        "height=[]\n",
        "chest_size=[] \n",
        "intellegence_score=[]\n",
        "appitude_test=[]\n",
        "interview_score=[]\n",
        "\n",
        "password={\n",
        "    officer_name[0]: \"PIAIC000\",\n",
        "    officer_name[1]: \"PIAIC001\",\n",
        "    officer_name[2]: \"PIAIC002\",\n",
        "    officer_name[3]: \"PIAIC003\"\n",
        "    }\n",
        "print(\"Welcome to KPK police Recruitment Program:-\\n Please sign in with your User Name and Password:-\")\n",
        "time.sleep(2)\n",
        "user_name=input(\"Please enter your User name:-\\n\")\n",
        "pas=input(\"Please enter your password:\\n\")\n",
        "temp=user_name\n",
        "if user_name in officer_name and pas in password[officer_name[officer_name.index(temp)]]:\n",
        "\n",
        "    print(f\"Welcome Mr {temp} to KPK Police Recruitment Program\")\n",
        "    print('Please wait while we getting things ready for you!')\n",
        "    time.sleep(2.5)\n",
        "\n",
        "else:\n",
        "  print(\"incorrect user name or password\")\n"
      ],
      "execution_count": 3,
      "outputs": [
        {
          "output_type": "stream",
          "text": [
            "Welcome to KPK police Recruitment Program:-\n",
            " Please sign in with your User Name and Password:-\n",
            "Please enter your User name:-\n",
            "Zeeshan\n",
            "Please enter your password:\n",
            "PIAIC000\n",
            "Welcome Mr Zeeshan to KPK Police Recruitment Program\n",
            "Please wait while we getting things ready for you!\n"
          ],
          "name": "stdout"
        }
      ]
    },
    {
      "cell_type": "code",
      "metadata": {
        "id": "0wA_k5Bi0V0P",
        "colab_type": "code",
        "outputId": "28e695a6-dcda-41e5-a447-42ec5086d2a6",
        "colab": {
          "base_uri": "https://localhost:8080/",
          "height": 367
        }
      },
      "source": [
        "print(\"Enter the name of the applicat:-\")\n",
        "name_applicant=input('enter the name:-')\n",
        "name.append(name_applicant)\n",
        "print(\"Enter the the age of applicant\")\n",
        "age_applicant=int(input())\n",
        "age.append(age_applicant)\n",
        "height_applicant=float(input(\"Enter the height:-\"))\n",
        "height.append(height_applicant)\n",
        "chest_applicant=float(input(\"enter your chest size:-\"))\n",
        "chest_size.append(chest_applicant)\n",
        "#time.sleep(2)\n",
        "intellegence_applicant=float(input(\"Enter the Intellegence score of applicant:-\"))\n",
        "intellegence_score.append(intellegence_applicant)\n",
        "appitudeTest_applicant=int(input(\"Enter the appitude test of applicant\"))\n",
        "appitude_test.append(appitudeTest_applicant)\n",
        "interviewScore_applicant=float(input(\"Enter interview score of the applicant:-\"))\n",
        "interview_score.append(interviewScore_applicant)\n",
        "print(f\"Thank Mr {temp}, Please wait while we create the Total score\")\n",
        "  "
      ],
      "execution_count": 4,
      "outputs": [
        {
          "output_type": "stream",
          "text": [
            "Enter the name of the applicat:-\n",
            "enter the name:-khan\n",
            "Enter the the age of applicant\n",
            "23\n",
            "Enter the height:-5\n",
            "enter your chest size:-5.4\n",
            "Enter the Intellegence score of applicant:-56\n",
            "Enter the appitude test of applicant4\n",
            "Enter interview score of the applicant:-5\n",
            "Thank Mr Zeeshan, Please wait while we create the Total score\n"
          ],
          "name": "stdout"
        },
        {
          "output_type": "error",
          "ename": "NameError",
          "evalue": "ignored",
          "traceback": [
            "\u001b[0;31m---------------------------------------------------------------------------\u001b[0m",
            "\u001b[0;31mNameError\u001b[0m                                 Traceback (most recent call last)",
            "\u001b[0;32m<ipython-input-4-1cfdd1b7e7f5>\u001b[0m in \u001b[0;36m<module>\u001b[0;34m()\u001b[0m\n\u001b[1;32m     17\u001b[0m \u001b[0minterview_score\u001b[0m\u001b[0;34m.\u001b[0m\u001b[0mappend\u001b[0m\u001b[0;34m(\u001b[0m\u001b[0minterviewScore_applicant\u001b[0m\u001b[0;34m)\u001b[0m\u001b[0;34m\u001b[0m\u001b[0;34m\u001b[0m\u001b[0m\n\u001b[1;32m     18\u001b[0m \u001b[0mprint\u001b[0m\u001b[0;34m(\u001b[0m\u001b[0;34mf\"Thank Mr {temp}, Please wait while we create the Total score\"\u001b[0m\u001b[0;34m)\u001b[0m\u001b[0;34m\u001b[0m\u001b[0;34m\u001b[0m\u001b[0m\n\u001b[0;32m---> 19\u001b[0;31m \u001b[0mclean\u001b[0m\u001b[0;34m\u001b[0m\u001b[0;34m\u001b[0m\u001b[0m\n\u001b[0m",
            "\u001b[0;31mNameError\u001b[0m: name 'clean' is not defined"
          ]
        }
      ]
    },
    {
      "cell_type": "code",
      "metadata": {
        "id": "FT5DdILWJc9p",
        "colab_type": "code",
        "colab": {}
      },
      "source": [
        "total_scoreApplicant1=interview_score[0]+appitude_test[0]+intellegence_score[0]\n",
        "temp1=total_scoreApplicant1\n",
        "if temp1 >= 80:\n",
        "  print(f\"Mr {name[0]} has scored total marks are {total_scoreApplicant1}\")\n"
      ],
      "execution_count": 0,
      "outputs": []
    },
    {
      "cell_type": "code",
      "metadata": {
        "id": "aCytjx19x19t",
        "colab_type": "code",
        "outputId": "16ebc214-32d0-4228-88d8-9d10755b40f0",
        "colab": {
          "base_uri": "https://localhost:8080/",
          "height": 34
        }
      },
      "source": [
        "type(temp1)"
      ],
      "execution_count": 0,
      "outputs": [
        {
          "output_type": "execute_result",
          "data": {
            "text/plain": [
              "float"
            ]
          },
          "metadata": {
            "tags": []
          },
          "execution_count": 115
        }
      ]
    },
    {
      "cell_type": "code",
      "metadata": {
        "id": "6RMd-ScyWj4j",
        "colab_type": "code",
        "colab": {}
      },
      "source": [
        "def clean():\n",
        "  intellegence_score.clear()\n",
        "  appitude_test.clear()\n",
        "\n"
      ],
      "execution_count": 0,
      "outputs": []
    },
    {
      "cell_type": "code",
      "metadata": {
        "id": "nl0hpZO_1zrC",
        "colab_type": "code",
        "colab": {
          "base_uri": "https://localhost:8080/",
          "height": 34
        },
        "outputId": "2e186376-885a-4f48-fb31-9febc99a9868"
      },
      "source": [
        "clean"
      ],
      "execution_count": 29,
      "outputs": [
        {
          "output_type": "execute_result",
          "data": {
            "text/plain": [
              "<function __main__.clean>"
            ]
          },
          "metadata": {
            "tags": []
          },
          "execution_count": 29
        }
      ]
    },
    {
      "cell_type": "code",
      "metadata": {
        "id": "rdgm2VBFz9hq",
        "colab_type": "code",
        "outputId": "c779e938-3a33-4878-add2-e3cff9dea94d",
        "colab": {
          "base_uri": "https://localhost:8080/",
          "height": 34
        }
      },
      "source": [
        "intellegence_score"
      ],
      "execution_count": 30,
      "outputs": [
        {
          "output_type": "execute_result",
          "data": {
            "text/plain": [
              "[56.0]"
            ]
          },
          "metadata": {
            "tags": []
          },
          "execution_count": 30
        }
      ]
    },
    {
      "cell_type": "code",
      "metadata": {
        "id": "btD7qJVN04-M",
        "colab_type": "code",
        "colab": {}
      },
      "source": [
        ""
      ],
      "execution_count": 0,
      "outputs": []
    }
  ]
}
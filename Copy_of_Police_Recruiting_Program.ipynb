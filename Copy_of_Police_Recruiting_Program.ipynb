{
  "nbformat": 4,
  "nbformat_minor": 0,
  "metadata": {
    "colab": {
      "name": "Copy of Police Recruiting Program.ipynb",
      "provenance": [],
      "collapsed_sections": [],
      "authorship_tag": "ABX9TyPfwCjwVwfHVPioAZi0OlEn",
      "include_colab_link": true
    },
    "kernelspec": {
      "name": "python3",
      "display_name": "Python 3"
    }
  },
  "cells": [
    {
      "cell_type": "markdown",
      "metadata": {
        "id": "view-in-github",
        "colab_type": "text"
      },
      "source": [
        "<a href=\"https://colab.research.google.com/github/MZeeshanIqbal/Python/blob/master/Copy_of_Police_Recruiting_Program.ipynb\" target=\"_parent\"><img src=\"https://colab.research.google.com/assets/colab-badge.svg\" alt=\"Open In Colab\"/></a>"
      ]
    },
    {
      "cell_type": "code",
      "metadata": {
        "id": "vBR8-YQ-CDcI",
        "colab_type": "code",
        "colab": {}
      },
      "source": [
        ""
      ],
      "execution_count": 0,
      "outputs": []
    },
    {
      "cell_type": "markdown",
      "metadata": {
        "id": "M5ohS3CKXhGU",
        "colab_type": "text"
      },
      "source": [
        "# **Login Screen**\n",
        "\n",
        "\n",
        "*   Officer Sign-in\n",
        "*   Input record of the candidate\n",
        "*   statement validation\n",
        "*   Result gathering\n",
        "\n"
      ]
    },
    {
      "cell_type": "code",
      "metadata": {
        "id": "6wO9E5VvPugz",
        "colab_type": "code",
        "colab": {}
      },
      "source": [
        "# code written by Muhammad Zeeshan Iqbal\n",
        "# email:zeeshan4engr@gmail.com \n",
        "# department of Computer Science and Information Technology UET Peshawar\n",
        "#I hope you will like it comments is open for all\n",
        "\"\"\"  \n",
        "  This is the Police recruting program designed for the khyber pukhtoonKhwa Police\n",
        "  this program made the applicant appointment check by asking questions\n",
        "  list contain the predefine officers and thier corresponding password is mantained in another list\n",
        "  the if statment validate the users and skip out the wrong user\n",
        "  than i created list for each entity for keeping the record of age_applicant\n",
        "  this program can store multiple users at time and thier multiple records as well\n",
        "  the program after successfull login ask the applicant credentials like name,age,height and test scores etc \n",
        "  base on this record assign the grade and make easy in merit.\n",
        "\"\"\"\n",
        "\n",
        "import time\n",
        "officer_name=[\"Zeeshan\",\"Nasir Hussain\",\"Adil Altaf\",\"Zia Khan\"]\n",
        "#check_list\n",
        "#applicant Details\n",
        "name=[]\n",
        "age=[] \n",
        "height=[]\n",
        "chest_size=[] \n",
        "intellegence_score=[]\n",
        "appitude_test=[]\n",
        "interview_score=[]\n",
        "\n",
        "password={\n",
        "    officer_name[0]: \"PIAIC000\",\n",
        "    officer_name[1]: \"PIAIC001\",\n",
        "    officer_name[2]: \"PIAIC002\",\n",
        "    officer_name[3]: \"PIAIC003\"\n",
        "    }\n",
        "print(\"Welcome to KPK police Recruitment Program:-\\n Please sign in with your User Name and Password:-\")\n",
        "time.sleep(2)\n",
        "user_name=input(\"Please enter your User name:-\\n\")\n",
        "pas=input(\"Please enter your password:\\n\")\n",
        "temp=user_name\n",
        "if user_name in officer_name and pas in password[officer_name[officer_name.index(temp)]]:\n",
        "\n",
        "    print(f\"Welcome Mr {temp} to KPK Police Recruitment Program\")\n",
        "    print('Please wait while we getting things ready for you!')\n",
        "    time.sleep(2.5)\n",
        "\n",
        "else:\n",
        "  print(\"incorrect user name or password\")\n",
        "print(\"Enter the name of the applicat:-\")\n",
        "name_applicant=input('enter the name:-')\n",
        "name.append(name_applicant)\n",
        "print(\"Enter the the age of applicant\")\n",
        "age_applicant=int(input())\n",
        "age.append(age_applicant)\n",
        "height_applicant=float(input(\"Enter the height:-\"))\n",
        "height.append(height_applicant)\n",
        "chest_applicant=float(input(\"enter your chest size:-\"))\n",
        "chest_size.append(chest_applicant)\n",
        "#time.sleep(2)\n",
        "intellegence_applicant=float(input(\"Enter the Intellegence score of applicant:-\"))\n",
        "intellegence_score.append(intellegence_applicant)\n",
        "appitudeTest_applicant=int(input(\"Enter the appitude test of applicant\"))\n",
        "appitude_test.append(appitudeTest_applicant)\n",
        "interviewScore_applicant=float(input(\"Enter interview score of the applicant:-\"))\n",
        "interview_score.append(interviewScore_applicant)\n",
        "print(f\"Thank Mr {temp}, Please wait while we create the Total score\")\n",
        "total_scoreApplicant1=interview_score[0]+appitude_test[0]+intellegence_score[0]\n",
        "if total_scoreApplicant1 >= 80:\n",
        "  print(f\"Mr {name[0]} has scored grade A total marks are {total_scoreApplicant1}\")\n",
        "elif total_scoreApplicant1 >50 and total_scoreApplicant1 >80:\n",
        "  print(f\"Mr {name[0]} has scored grade B total marks are {total_scoreApplicant1}\")\n",
        "else:\n",
        "  print(f\"Mr {name[0]} has scored F total marks are {total_scoreApplicant1}\")\n",
        "total_scoreApplicant2=interview_score[1]+appitude_test[1]+intellegence_score[1]\n",
        "if total_scoreApplicant2 >=80:\n",
        "  print(f\"Mr {name[1]} has scored A total marks are {total_scoreApplicant2}\")\n",
        "elif total_scoreApplicant1 >50 and total_scoreApplicant1 >80:\n",
        "  print(f\"Mr {name[1]} has scored grade B total marks are {total_scoreApplicant2}\")\n",
        "else:\n",
        "  print(f\"Mr {name[1]} has scored F total marks are {total_scoreApplicant2}\")"
      ],
      "execution_count": 0,
      "outputs": []
    },
    {
      "cell_type": "markdown",
      "metadata": {
        "id": "SOWM2o29b680",
        "colab_type": "text"
      },
      "source": [
        "# Decision makign code\n",
        "* grade assignment"
      ]
    },
    {
      "cell_type": "code",
      "metadata": {
        "id": "3Tr-eSyjWsm3",
        "colab_type": "code",
        "colab": {}
      },
      "source": [
        "total_scoreApplicant1=interview_score[0]+appitude_test[0]+intellegence_score[0]\n",
        "if total_scoreApplicant1 >= 80:\n",
        "  print(f\"Mr {name[0]} has scored grade A total marks are {total_scoreApplicant1}\")\n",
        "elif total_scoreApplicant1 >50 and total_scoreApplicant1 >80:\n",
        "  print(f\"Mr {name[0]} has scored grade B total marks are {total_scoreApplicant1}\")\n",
        "else:\n",
        "  print(f\"Mr {name[0]} has scored F total marks are {total_scoreApplicant1}\")\n",
        "total_scoreApplicant2=interview_score[1]+appitude_test[1]+intellegence_score[1]\n",
        "if total_scoreApplicant2 >=80:\n",
        "  print(f\"Mr {name[1]} has scored A total marks are {total_scoreApplicant2}\")\n",
        "elif total_scoreApplicant1 >50 and total_scoreApplicant1 >80:\n",
        "  print(f\"Mr {name[1]} has scored grade B total marks are {total_scoreApplicant2}\")\n",
        "else:\n",
        "  print(f\"Mr {name[1]} has scored F total marks are {total_scoreApplicant2}\")"
      ],
      "execution_count": 0,
      "outputs": []
    },
    {
      "cell_type": "markdown",
      "metadata": {
        "id": "8akgTnYScw4I",
        "colab_type": "text"
      },
      "source": [
        "# Clean All list values function"
      ]
    },
    {
      "cell_type": "code",
      "metadata": {
        "id": "6RMd-ScyWj4j",
        "colab_type": "code",
        "colab": {}
      },
      "source": [
        "def clean():\n",
        "  intellegence_score.clear()\n",
        "  appitude_test.clear()\n",
        "  interview_score.clear()"
      ],
      "execution_count": 0,
      "outputs": []
    }
  ]
}